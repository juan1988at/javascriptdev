{
 "cells": [
  {
   "cell_type": "markdown",
   "metadata": {},
   "source": [
    "¿Cuando utilizar el switch?"
   ]
  },
  {
   "cell_type": "markdown",
   "metadata": {},
   "source": [
    "Es para que tengamos que validad casos!! es todo, situaciones especiales!."
   ]
  },
  {
   "cell_type": "code",
   "execution_count": 1,
   "metadata": {},
   "outputs": [
    {
     "data": {
      "application/javascript": [
       "\n",
       "var numero = 1; \n",
       "var resultado; \n",
       "\n",
       "switch (numero) {\n",
       "    case 1: \n",
       "        resultado = \"Sí es uno\";\n",
       "        break;\n",
       "    case 10: \n",
       "        resultado = \"Sí es diez\";\n",
       "        break;\n",
       "    case 100:\n",
       "        resultado = \"Sí es cien\";\n",
       "        break;\n",
       "    default:   \n",
       "        resultado = \"No match\"; \n",
       "}\n",
       "\n",
       "element.text(resultado); \n"
      ],
      "text/plain": [
       "<IPython.core.display.Javascript object>"
      ]
     },
     "metadata": {},
     "output_type": "display_data"
    }
   ],
   "source": [
    "%%js\n",
    "\n",
    "var numero = 1; \n",
    "var resultado; \n",
    "\n",
    "switch (numero) {\n",
    "    case 1: \n",
    "        resultado = \"Sí es uno\";\n",
    "        break;\n",
    "    case 10: \n",
    "        resultado = \"Sí es diez\";\n",
    "        break;\n",
    "    case 100:\n",
    "        resultado = \"Sí es cien\";\n",
    "        break;\n",
    "    default:   \n",
    "        resultado = \"No match\"; \n",
    "}\n",
    "\n",
    "element.text(resultado); "
   ]
  },
  {
   "cell_type": "markdown",
   "metadata": {},
   "source": [
    "<hr style=\"height:2px;border-width:0;color:gray;background-color:red\">\n",
    "<h2 style=\"color: red\">Actividad</h2>"
   ]
  },
  {
   "cell_type": "markdown",
   "metadata": {},
   "source": [
    "Cree un switch case, que pueda evaluar rangos de valores para tu peso y asignarte en una cateogria del boxeo."
   ]
  },
  {
   "cell_type": "code",
   "execution_count": null,
   "metadata": {},
   "outputs": [],
   "source": [
    "\n",
    "\n",
    "\n"
   ]
  },
  {
   "cell_type": "markdown",
   "metadata": {},
   "source": [
    "<h2 style=\"color: red\">Fin</h2>\n",
    "<hr style=\"height:2px;border-width:0;color:gray;background-color:red\">"
   ]
  }
 ],
 "metadata": {
  "kernelspec": {
   "display_name": "Python 3",
   "language": "python",
   "name": "python3"
  },
  "language_info": {
   "codemirror_mode": {
    "name": "ipython",
    "version": 3
   },
   "file_extension": ".py",
   "mimetype": "text/x-python",
   "name": "python",
   "nbconvert_exporter": "python",
   "pygments_lexer": "ipython3",
   "version": "3.7.6"
  }
 },
 "nbformat": 4,
 "nbformat_minor": 4
}
