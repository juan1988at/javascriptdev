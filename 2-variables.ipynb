{
 "cells": [
  {
   "cell_type": "markdown",
   "metadata": {},
   "source": [
    "# Variables"
   ]
  },
  {
   "cell_type": "markdown",
   "metadata": {},
   "source": [
    "<img src=\"img/alcance.jpg\" width=\"600px\">"
   ]
  },
  {
   "cell_type": "markdown",
   "metadata": {},
   "source": [
    "# 1. VAR"
   ]
  },
  {
   "cell_type": "markdown",
   "metadata": {},
   "source": [
    "1. Asignar una variable"
   ]
  },
  {
   "cell_type": "code",
   "execution_count": null,
   "metadata": {},
   "outputs": [],
   "source": [
    "%%js\n",
    "var nombre= \"Sergio\"\n",
    "element.text(nombre)"
   ]
  },
  {
   "cell_type": "markdown",
   "metadata": {},
   "source": [
    "2. Declarar una variable"
   ]
  },
  {
   "cell_type": "code",
   "execution_count": null,
   "metadata": {},
   "outputs": [],
   "source": [
    "%%js\n",
    "var edad;"
   ]
  },
  {
   "cell_type": "markdown",
   "metadata": {},
   "source": [
    "3. Inicializar una variable"
   ]
  },
  {
   "cell_type": "code",
   "execution_count": null,
   "metadata": {},
   "outputs": [],
   "source": [
    "%%js\n",
    "edad = 30;"
   ]
  },
  {
   "cell_type": "markdown",
   "metadata": {},
   "source": [
    "4. Crear un vector"
   ]
  },
  {
   "cell_type": "code",
   "execution_count": null,
   "metadata": {},
   "outputs": [],
   "source": [
    "%%js\n",
    "var elementos = ['Computadora', 'Celular'];\n",
    "element.text(elementos[0])"
   ]
  },
  {
   "cell_type": "markdown",
   "metadata": {},
   "source": [
    "5. Crear un objeto"
   ]
  },
  {
   "cell_type": "code",
   "execution_count": null,
   "metadata": {},
   "outputs": [],
   "source": [
    "%%js\n",
    "var persona = {   // de igual forma para el objeto\n",
    "    nombre: \"Roxanne\",\n",
    "    edad: 30\n",
    "}\n",
    "element.text(persona.nombre)"
   ]
  },
  {
   "cell_type": "markdown",
   "metadata": {},
   "source": [
    "# let "
   ]
  },
  {
   "cell_type": "markdown",
   "metadata": {},
   "source": [
    "Si necesito que una variable este definidad desde el punto de la asignación utilizo let"
   ]
  },
  {
   "cell_type": "code",
   "execution_count": null,
   "metadata": {},
   "outputs": [],
   "source": [
    "%%js\n",
    "let nombreTutor = \"Hernando\";\n",
    "element.text(nombreTutor)"
   ]
  },
  {
   "cell_type": "code",
   "execution_count": null,
   "metadata": {},
   "outputs": [],
   "source": [
    "%%js\n",
    "let nombreTutor = \"Hernando\";\n",
    "nombreTutor = \"Jairo\";\n",
    "element.text(nombreTutor)"
   ]
  },
  {
   "cell_type": "markdown",
   "metadata": {},
   "source": [
    "### Diferencia"
   ]
  },
  {
   "cell_type": "code",
   "execution_count": 3,
   "metadata": {},
   "outputs": [
    {
     "data": {
      "application/javascript": [
       "\n",
       "//Ejemplo\n",
       "var numero = 40;\n",
       "console.log(numero); // Valor 40\n",
       "\n",
       "if(true){\n",
       "    var numero = 50;\n",
       "    console.log(numero); // Valor 50\n",
       "}\n",
       "\n",
       "console.log(numero); //Valor 50\n"
      ],
      "text/plain": [
       "<IPython.core.display.Javascript object>"
      ]
     },
     "metadata": {},
     "output_type": "display_data"
    }
   ],
   "source": [
    "%%js\n",
    "\n",
    "//Ejemplo\n",
    "var numero = 40;\n",
    "console.log(numero); // Valor 40\n",
    "\n",
    "if(true){\n",
    "    var numero = 50;\n",
    "    console.log(numero); // Valor 50\n",
    "}\n",
    "\n",
    "console.log(numero); //Valor 50"
   ]
  },
  {
   "cell_type": "code",
   "execution_count": 4,
   "metadata": {},
   "outputs": [
    {
     "data": {
      "application/javascript": [
       "//Ejemplo\n",
       "var numero = 40;\n",
       "console.log(numero); // Valor 40\n",
       "\n",
       "if(true){\n",
       "    let numero = 50;\n",
       "    console.log(numero); // Valor 50\n",
       "}\n",
       "\n",
       "console.log(numero); //Valor 50\n"
      ],
      "text/plain": [
       "<IPython.core.display.Javascript object>"
      ]
     },
     "metadata": {},
     "output_type": "display_data"
    }
   ],
   "source": [
    "%%js\n",
    "//Ejemplo\n",
    "var numero = 40;\n",
    "console.log(numero); // Valor 40\n",
    "\n",
    "if(true){\n",
    "    let numero = 50;\n",
    "    console.log(numero); // Valor 50\n",
    "}\n",
    "\n",
    "console.log(numero); //Valor 50\n"
   ]
  },
  {
   "cell_type": "markdown",
   "metadata": {},
   "source": [
    "# Const"
   ]
  },
  {
   "cell_type": "code",
   "execution_count": null,
   "metadata": {},
   "outputs": [],
   "source": [
    "%%js\n",
    "const nombreNovia = \"Michelle\";\n",
    "element.text(nombreNovia)"
   ]
  },
  {
   "cell_type": "markdown",
   "metadata": {},
   "source": [
    "### Diferencia"
   ]
  },
  {
   "cell_type": "code",
   "execution_count": null,
   "metadata": {},
   "outputs": [],
   "source": [
    "%%js\n",
    "const nombreNovia = \"Michelle\";\n",
    "nombreNovia = \"Karina\"\n",
    "element.text(nombreNovia)"
   ]
  },
  {
   "cell_type": "markdown",
   "metadata": {},
   "source": [
    "# ¿Entonces cuál debo utilizar?"
   ]
  },
  {
   "cell_type": "markdown",
   "metadata": {},
   "source": [
    "Respuesta rapida \n",
    "\n",
    "\n",
    "\n",
    "    conts > let > var\n",
    "    \n",
    "Para efectos iniciales o de cursos antiguos, encontraremos el uso de var bastante extendido, tambien por que var se lee en todos los navegadores incluyendo opera e internet explorer, aun así es poco recomendable utilizarala. "
   ]
  }
 ],
 "metadata": {
  "kernelspec": {
   "display_name": "Python 3",
   "language": "python",
   "name": "python3"
  },
  "language_info": {
   "codemirror_mode": {
    "name": "ipython",
    "version": 3
   },
   "file_extension": ".py",
   "mimetype": "text/x-python",
   "name": "python",
   "nbconvert_exporter": "python",
   "pygments_lexer": "ipython3",
   "version": "3.7.6"
  }
 },
 "nbformat": 4,
 "nbformat_minor": 4
}
