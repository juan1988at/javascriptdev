{
 "cells": [
  {
   "cell_type": "markdown",
   "metadata": {},
   "source": [
    "# ¿Qué es Hoisting?\n",
    "\n",
    "Es cuando las variables y funciones se declaran antes que se procese cualquier tipo de código"
   ]
  },
  {
   "cell_type": "markdown",
   "metadata": {},
   "source": [
    "<a href=\"https://www.youtube.com/watch?v=uI6o97A4IrI&ab_channel=LaCocinadelC%C3%B3digo\">Explicación.</a>"
   ]
  },
  {
   "cell_type": "markdown",
   "metadata": {},
   "source": [
    "Esto pasa con versiones de ecmascript 5 hacia abajo, a partir de la versión exmascript 6 ya no sucede."
   ]
  },
  {
   "cell_type": "markdown",
   "metadata": {},
   "source": [
    "Hoisting es cuando las declaraciones de variables y funciones se procesan antes de ejecutar cualquier código, al momento de qe se genere el hosting, las funciones se declarán primero, y despues las variables."
   ]
  },
  {
   "cell_type": "markdown",
   "metadata": {},
   "source": [
    "¿Qué creen que ocurriria si aplicamos esta linea de código?"
   ]
  },
  {
   "cell_type": "code",
   "execution_count": 12,
   "metadata": {},
   "outputs": [
    {
     "data": {
      "application/javascript": [
       "console.log(miNombre)\n",
       "var miNombre = \"Sergio\"; //Declarar\n"
      ],
      "text/plain": [
       "<IPython.core.display.Javascript object>"
      ]
     },
     "metadata": {},
     "output_type": "display_data"
    }
   ],
   "source": [
    "%%js\n",
    "console.log(miNombre)\n",
    "var miNombre = \"Sergio\"; //Declarar"
   ]
  },
  {
   "cell_type": "markdown",
   "metadata": {},
   "source": [
    "¿Qué ocurre si compilo este código?"
   ]
  },
  {
   "cell_type": "code",
   "execution_count": 19,
   "metadata": {},
   "outputs": [
    {
     "data": {
      "application/javascript": [
       "var miNombre;\n",
       "\n",
       "console.log(miNombre);\n",
       "\n",
       "miNombre = \"Carlos\";\n"
      ],
      "text/plain": [
       "<IPython.core.display.Javascript object>"
      ]
     },
     "metadata": {},
     "output_type": "display_data"
    }
   ],
   "source": [
    "%%js\n",
    "var miNombre;\n",
    "\n",
    "console.log(miNombre);\n",
    "\n",
    "miNombre = \"Carlos\";"
   ]
  },
  {
   "cell_type": "markdown",
   "metadata": {},
   "source": [
    "¿Cómo sabemos que este undefined viene de arriba?"
   ]
  },
  {
   "cell_type": "code",
   "execution_count": 17,
   "metadata": {},
   "outputs": [
    {
     "data": {
      "application/javascript": [
       "var miNombre;\n",
       "\n",
       "console.log(miNombre + \"soy hoisting\");\n",
       "\n",
       "miNombre = \"Diego\";\n"
      ],
      "text/plain": [
       "<IPython.core.display.Javascript object>"
      ]
     },
     "metadata": {},
     "output_type": "display_data"
    }
   ],
   "source": [
    "%%js\n",
    "var miNombre;\n",
    "\n",
    "console.log(miNombre + \"soy hoisting\");\n",
    "\n",
    "miNombre = \"Diego\";"
   ]
  },
  {
   "cell_type": "markdown",
   "metadata": {},
   "source": [
    "Hoisting con funciones"
   ]
  },
  {
   "cell_type": "markdown",
   "metadata": {},
   "source": [
    "¿Qué ocurre si mando a llamar mi variable?"
   ]
  },
  {
   "cell_type": "markdown",
   "metadata": {},
   "source": [
    "%%js\n",
    "hey();\n",
    "\n",
    "function hey() {\n",
    "    console.log('Hola ' + miNombre);\n",
    "};"
   ]
  },
  {
   "cell_type": "markdown",
   "metadata": {},
   "source": [
    "¿Qué ocurre si definimos la variable abajo de la función?"
   ]
  },
  {
   "cell_type": "code",
   "execution_count": 25,
   "metadata": {},
   "outputs": [
    {
     "data": {
      "application/javascript": [
       "hey();\n",
       "\n",
       "function hey() {\n",
       "    console.log('Hola ' + miNombre);\n",
       "};\n",
       "\n",
       "var miNombre = 'Diego';\n"
      ],
      "text/plain": [
       "<IPython.core.display.Javascript object>"
      ]
     },
     "metadata": {},
     "output_type": "display_data"
    }
   ],
   "source": [
    "%%js\n",
    "hey();\n",
    "\n",
    "function hey() {\n",
    "    console.log('Hola ' + miNombre);\n",
    "};\n",
    "\n",
    "var miNombre = 'Fabio';"
   ]
  },
  {
   "cell_type": "markdown",
   "metadata": {},
   "source": [
    "Las variables y las funciones se declaran antes de que se ejecuten, pero las funciones se declaran antes que las variables"
   ]
  },
  {
   "cell_type": "markdown",
   "metadata": {},
   "source": [
    "<div class=\"alert alert-info\">\n",
    "   <strong>Buenas practicas!</strong> Por buenas practicas todas las funciones y variables que utilices debes declararlas al inicio de tu código!!\n",
    "</div>"
   ]
  },
  {
   "cell_type": "markdown",
   "metadata": {},
   "source": [
    "Lo que sucede con hoisting "
   ]
  },
  {
   "cell_type": "code",
   "execution_count": 27,
   "metadata": {},
   "outputs": [
    {
     "data": {
      "application/javascript": [
       "function hey() {  //La función se declara hasta arriba, y después se declaran las variables.\n",
       "    console.log('Hola ' + miNombre);\n",
       "};\n",
       "\n",
       "var miNombre;\n",
       "\n",
       "hey();\n",
       "\n",
       "miNombre = 'Diego';\n"
      ],
      "text/plain": [
       "<IPython.core.display.Javascript object>"
      ]
     },
     "metadata": {},
     "output_type": "display_data"
    }
   ],
   "source": [
    "%%js\n",
    "function hey() {  //La función se declara hasta arriba, y después se declaran las variables.\n",
    "    console.log('Hola ' + miNombre);\n",
    "};\n",
    "\n",
    "var miNombre;\n",
    "\n",
    "hey();\n",
    "\n",
    "miNombre = 'Diego';"
   ]
  },
  {
   "cell_type": "markdown",
   "metadata": {},
   "source": [
    ">https://developer.mozilla.org/es/docs/Glossary/Hoisting"
   ]
  }
 ],
 "metadata": {
  "kernelspec": {
   "display_name": "Python 3",
   "language": "python",
   "name": "python3"
  },
  "language_info": {
   "codemirror_mode": {
    "name": "ipython",
    "version": 3
   },
   "file_extension": ".py",
   "mimetype": "text/x-python",
   "name": "python",
   "nbconvert_exporter": "python",
   "pygments_lexer": "ipython3",
   "version": "3.7.6"
  }
 },
 "nbformat": 4,
 "nbformat_minor": 4
}
