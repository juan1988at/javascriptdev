{
 "cells": [
  {
   "cell_type": "markdown",
   "metadata": {},
   "source": [
    "1. Método FIND"
   ]
  },
  {
   "cell_type": "markdown",
   "metadata": {},
   "source": [
    "Creamos nuestro objeto"
   ]
  },
  {
   "cell_type": "code",
   "execution_count": null,
   "metadata": {},
   "outputs": [],
   "source": [
    "var articulos = [\n",
    "    { nombre: 'Bici', costo: 3000 },\n",
    "    { nombre: 'TV', costo: 2500 },\n",
    "    { nombre: 'Libro', costo: 320 },\n",
    "    { nombre: 'Celular', costo: 10000 },\n",
    "    { nombre: 'laptop', costo: 20000 },\n",
    "    { nombre: 'teclado', costo: 500 },\n",
    "    { nombre: 'audifonos', costo: 1700 }\n",
    "]"
   ]
  },
  {
   "cell_type": "markdown",
   "metadata": {},
   "source": [
    "Utilizamos el método find"
   ]
  },
  {
   "cell_type": "code",
   "execution_count": null,
   "metadata": {},
   "outputs": [],
   "source": [
    "var encuentraArticulos = articulos.find(function(articulo){\n",
    "    return articulo.nombre === 'laptop';\n",
    "});"
   ]
  },
  {
   "cell_type": "markdown",
   "metadata": {},
   "source": [
    "llamamos la variable."
   ]
  },
  {
   "cell_type": "code",
   "execution_count": null,
   "metadata": {},
   "outputs": [],
   "source": [
    "encuentraArticulos"
   ]
  },
  {
   "cell_type": "markdown",
   "metadata": {},
   "source": [
    "2. ForEach Este método no me va a generar un nuevo array."
   ]
  },
  {
   "cell_type": "code",
   "execution_count": null,
   "metadata": {},
   "outputs": [],
   "source": [
    "var articulos = [\n",
    "    { nombre: 'Bici', costo: 3000 },\n",
    "    { nombre: 'TV', costo: 2500 },\n",
    "    { nombre: 'Libro', costo: 320 },\n",
    "    { nombre: 'Celular', costo: 10000 },\n",
    "    { nombre: 'laptop', costo: 20000 },\n",
    "    { nombre: 'teclado', costo: 500 },\n",
    "    { nombre: 'audifonos', costo: 1700 }\n",
    "]"
   ]
  },
  {
   "cell_type": "markdown",
   "metadata": {},
   "source": [
    "Luego lo utilizamos"
   ]
  },
  {
   "cell_type": "code",
   "execution_count": null,
   "metadata": {},
   "outputs": [],
   "source": [
    "articulos.forEach(function(articulo){\n",
    "    console.log(articulo.nombre);\n",
    "});\n"
   ]
  },
  {
   "cell_type": "markdown",
   "metadata": {},
   "source": [
    "<hr style=\"height:2px;border-width:0;color:gray;background-color:red\">\n",
    "<h2 style=\"color: red\">Actividad</h2>"
   ]
  },
  {
   "cell_type": "markdown",
   "metadata": {},
   "source": [
    "Utiliza un Foreach para hacer suma de los productos"
   ]
  },
  {
   "cell_type": "code",
   "execution_count": null,
   "metadata": {},
   "outputs": [],
   "source": []
  },
  {
   "cell_type": "markdown",
   "metadata": {},
   "source": [
    "<h2 style=\"color: red\">Fin</h2>\n",
    "<hr style=\"height:2px;border-width:0;color:gray;background-color:red\">"
   ]
  },
  {
   "cell_type": "markdown",
   "metadata": {},
   "source": [
    "3. **Some** nos sirve para validar si es cierto o verdadero una condición dentro del objeto."
   ]
  },
  {
   "cell_type": "code",
   "execution_count": null,
   "metadata": {},
   "outputs": [],
   "source": [
    "var articulos = [\n",
    "    { nombre: 'Bici', costo: 3000 },\n",
    "    { nombre: 'TV', costo: 2500 },\n",
    "    { nombre: 'Libro', costo: 320 },\n",
    "    { nombre: 'Celular', costo: 10000 },\n",
    "    { nombre: 'laptop', costo: 20000 },\n",
    "    { nombre: 'teclado', costo: 500 },\n",
    "    { nombre: 'audifonos', costo: 1700 }\n",
    "]"
   ]
  },
  {
   "cell_type": "code",
   "execution_count": null,
   "metadata": {},
   "outputs": [],
   "source": [
    "var articulosBaratos = articulos.some(function(articulo){\n",
    "    return articulo.costo <= 700;\n",
    "});"
   ]
  },
  {
   "cell_type": "code",
   "execution_count": null,
   "metadata": {},
   "outputs": [],
   "source": [
    "articulosBaratos"
   ]
  }
 ],
 "metadata": {
  "kernelspec": {
   "display_name": "Python 3",
   "language": "python",
   "name": "python3"
  },
  "language_info": {
   "codemirror_mode": {
    "name": "ipython",
    "version": 3
   },
   "file_extension": ".py",
   "mimetype": "text/x-python",
   "name": "python",
   "nbconvert_exporter": "python",
   "pygments_lexer": "ipython3",
   "version": "3.7.6"
  }
 },
 "nbformat": 4,
 "nbformat_minor": 4
}
