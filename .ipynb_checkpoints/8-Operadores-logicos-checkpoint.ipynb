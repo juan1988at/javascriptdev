{
 "cells": [
  {
   "cell_type": "markdown",
   "metadata": {},
   "source": [
    "# Operadores lógicos Javascript"
   ]
  },
  {
   "cell_type": "markdown",
   "metadata": {},
   "source": [
    "<table class=\"standard-table\">\n",
    " <caption>Operadores de asignación compuestos</caption>\n",
    " <thead>\n",
    "  <tr>\n",
    "   <th>Nombre</th>\n",
    "   <th>Operador abreviado</th>\n",
    "   <th>Significado</th>\n",
    "  </tr>\n",
    " </thead>\n",
    " <tbody>\n",
    "  <tr>\n",
    "   <td><a class=\"page-not-created\" title=\"La documentación acerca de este tema no ha sido escrita todavía . ¡Por favor  considera contribuir !\"><code>Asignación</code></a></td>\n",
    "   <td><code>x = y</code></td>\n",
    "   <td><code>x = y</code></td>\n",
    "  </tr>\n",
    "  <tr>\n",
    "   <td><a class=\"page-not-created\" title=\"La documentación acerca de este tema no ha sido escrita todavía . ¡Por favor  considera contribuir !\"><code>Asignación de adición</code></a></td>\n",
    "   <td><code>x += y</code></td>\n",
    "   <td><code>x = x + y</code></td>\n",
    "  </tr>\n",
    "  <tr>\n",
    "   <td><a class=\"page-not-created\" title=\"La documentación acerca de este tema no ha sido escrita todavía . ¡Por favor  considera contribuir !\"><code>Asignación de resta</code></a></td>\n",
    "   <td><code>x -= y</code></td>\n",
    "   <td><code>x = x - y</code></td>\n",
    "  </tr>\n",
    "  <tr>\n",
    "   <td><a class=\"page-not-created\" title=\"La documentación acerca de este tema no ha sido escrita todavía . ¡Por favor  considera contribuir !\"><code>Asignación de multiplicación</code></a></td>\n",
    "   <td><code>x *= y</code></td>\n",
    "   <td><code>x = x * y</code></td>\n",
    "  </tr>\n",
    "  <tr>\n",
    "   <td><a class=\"page-not-created\" title=\"La documentación acerca de este tema no ha sido escrita todavía . ¡Por favor  considera contribuir !\"><code>Asignación de división</code></a></td>\n",
    "   <td><code>x /= y</code></td>\n",
    "   <td><code>x = x / y</code></td>\n",
    "  </tr>\n",
    "  <tr>\n",
    "   <td><a class=\"page-not-created\" title=\"La documentación acerca de este tema no ha sido escrita todavía . ¡Por favor  considera contribuir !\"><code>Asignación de residuo</code></a></td>\n",
    "   <td><code>x %= y</code></td>\n",
    "   <td><code>x = x % y</code></td>\n",
    "  </tr>\n",
    "  <tr>\n",
    "   <td><a class=\"page-not-created\" title=\"La documentación acerca de este tema no ha sido escrita todavía . ¡Por favor  considera contribuir !\"><code>Asignación de exponenciación</code></a></td>\n",
    "   <td><code>x **= y</code></td>\n",
    "   <td><code>x = x ** y</code></td>\n",
    "  </tr>\n",
    "  <tr>\n",
    "   <td><a class=\"page-not-created\" title=\"La documentación acerca de este tema no ha sido escrita todavía . ¡Por favor  considera contribuir !\"><code>Asignación de desplazamiento a la izquierda</code></a></td>\n",
    "   <td><code>x &lt;&lt;= y</code></td>\n",
    "   <td><code>x = x &lt;&lt; y</code></td>\n",
    "  </tr>\n",
    "  <tr>\n",
    "   <td><a class=\"page-not-created\" title=\"La documentación acerca de este tema no ha sido escrita todavía . ¡Por favor  considera contribuir !\"><code>Asignación de desplazamiento a la derecha</code></a></td>\n",
    "   <td><code>x &gt;&gt;= y</code></td>\n",
    "   <td><code>x = x &gt;&gt; y</code></td>\n",
    "  </tr>\n",
    "  <tr>\n",
    "   <td><a class=\"page-not-created\" title=\"La documentación acerca de este tema no ha sido escrita todavía . ¡Por favor  considera contribuir !\"><code>Asignación de desplazamiento a la derecha sin signo</code></a></td>\n",
    "   <td><code>x &gt;&gt;&gt;= y</code></td>\n",
    "   <td><code>x = x &gt;&gt;&gt; y</code></td>\n",
    "  </tr>\n",
    "  <tr>\n",
    "   <td><a class=\"page-not-created\" title=\"La documentación acerca de este tema no ha sido escrita todavía . ¡Por favor  considera contribuir !\"><code>Asignación AND bit a bit</code></a></td>\n",
    "   <td><code>x &amp;= y</code></td>\n",
    "   <td><code>x = x &amp; y</code></td>\n",
    "  </tr>\n",
    "  <tr>\n",
    "   <td><a class=\"page-not-created\" title=\"La documentación acerca de este tema no ha sido escrita todavía . ¡Por favor  considera contribuir !\"><code>Asignación XOR bit a bit</code></a></td>\n",
    "   <td><code>x ^= y</code></td>\n",
    "   <td><code>x = x ^ y</code></td>\n",
    "  </tr>\n",
    "  <tr>\n",
    "   <td><a class=\"page-not-created\" title=\"La documentación acerca de este tema no ha sido escrita todavía . ¡Por favor  considera contribuir !\"><code>Asignación OR bit a bit</code></a></td>\n",
    "   <td><code>x |= y</code></td>\n",
    "   <td><code>x = x | y</code></td>\n",
    "  </tr>\n",
    "  <tr>\n",
    "   <td><a class=\"page-not-created\" title=\"La documentación acerca de este tema no ha sido escrita todavía . ¡Por favor  considera contribuir !\"><code>Asignación AND lógico</code></a></td>\n",
    "   <td><code>x &amp;&amp;= y</code></td>\n",
    "   <td><code>x &amp;&amp; (x = y)</code></td>\n",
    "  </tr>\n",
    "  <tr>\n",
    "   <td><a class=\"page-not-created\" title=\"La documentación acerca de este tema no ha sido escrita todavía . ¡Por favor  considera contribuir !\"><code>Asignación OR lógico</code></a></td>\n",
    "   <td><code>x ||= y</code></td>\n",
    "   <td><code>x || (x = y)</code></td>\n",
    "  </tr>\n",
    "  <tr>\n",
    "   <td><a class=\"page-not-created\" title=\"La documentación acerca de este tema no ha sido escrita todavía . ¡Por favor  considera contribuir !\"><code>Asignación de anulación lógica</code></a></td>\n",
    "   <td><code>x ??= y</code></td>\n",
    "   <td><code>x ?? (x = y)</code></td>\n",
    "  </tr>\n",
    " </tbody>\n",
    "</table>"
   ]
  },
  {
   "cell_type": "markdown",
   "metadata": {},
   "source": [
    "1. Operadores aritmeticos."
   ]
  },
  {
   "cell_type": "code",
   "execution_count": null,
   "metadata": {},
   "outputs": [],
   "source": [
    "%%js\n",
    "3 + 2\n",
    "50 - 10\n",
    "10 * 3\n",
    "20 / 2\n"
   ]
  },
  {
   "cell_type": "code",
   "execution_count": null,
   "metadata": {},
   "outputs": [],
   "source": [
    "%%js\n",
    "'Diego ' + 'De Granda'"
   ]
  },
  {
   "cell_type": "markdown",
   "metadata": {},
   "source": [
    "2. Diferente de (!)"
   ]
  },
  {
   "cell_type": "code",
   "execution_count": null,
   "metadata": {},
   "outputs": [],
   "source": [
    "%%js\n",
    "!False"
   ]
  },
  {
   "cell_type": "markdown",
   "metadata": {},
   "source": [
    "3. Asignación"
   ]
  },
  {
   "cell_type": "code",
   "execution_count": null,
   "metadata": {},
   "outputs": [],
   "source": [
    "var\n",
    "let\n",
    "const"
   ]
  },
  {
   "cell_type": "markdown",
   "metadata": {},
   "source": [
    "4. Comparación"
   ]
  },
  {
   "cell_type": "code",
   "execution_count": null,
   "metadata": {},
   "outputs": [],
   "source": [
    "3 == '3' // es igual"
   ]
  },
  {
   "cell_type": "code",
   "execution_count": null,
   "metadata": {},
   "outputs": [],
   "source": [
    "3 === '3' // es estrictamente igual "
   ]
  },
  {
   "cell_type": "code",
   "execution_count": null,
   "metadata": {},
   "outputs": [],
   "source": [
    "%%js\n",
    "a = 3;\n",
    "3 === a;"
   ]
  },
  {
   "cell_type": "code",
   "execution_count": null,
   "metadata": {},
   "outputs": [],
   "source": [
    "6 < 4 //menor\n",
    "4 <= 2 //menor o igual\n",
    "6 > 4 // mayor\n",
    "6 >= //mayor o igual que."
   ]
  },
  {
   "cell_type": "markdown",
   "metadata": {},
   "source": [
    "5. Operador and &&"
   ]
  },
  {
   "cell_type": "code",
   "execution_count": null,
   "metadata": {},
   "outputs": [],
   "source": [
    "a && b //Este operador genra una validación, siempre que ambas variables sean verdad."
   ]
  },
  {
   "cell_type": "markdown",
   "metadata": {},
   "source": [
    "6. Operador or ||"
   ]
  },
  {
   "cell_type": "code",
   "execution_count": null,
   "metadata": {},
   "outputs": [],
   "source": [
    "false || true"
   ]
  },
  {
   "cell_type": "markdown",
   "metadata": {},
   "source": [
    "7. Operadores con variables"
   ]
  },
  {
   "cell_type": "code",
   "execution_count": null,
   "metadata": {},
   "outputs": [],
   "source": [
    "var edad = 50;"
   ]
  },
  {
   "cell_type": "code",
   "execution_count": null,
   "metadata": {},
   "outputs": [],
   "source": [
    "edad++;"
   ]
  },
  {
   "cell_type": "code",
   "execution_count": null,
   "metadata": {},
   "outputs": [],
   "source": [
    "edad+= 2;"
   ]
  },
  {
   "cell_type": "code",
   "execution_count": null,
   "metadata": {},
   "outputs": [],
   "source": [
    "edad--;"
   ]
  },
  {
   "cell_type": "markdown",
   "metadata": {},
   "source": [
    "8. Operadores de residuo"
   ]
  },
  {
   "cell_type": "code",
   "execution_count": null,
   "metadata": {},
   "outputs": [],
   "source": [
    "15%4"
   ]
  },
  {
   "cell_type": "markdown",
   "metadata": {},
   "source": [
    "Biografía\n",
    "\n",
    ">https://developer.mozilla.org/es/docs/Web/JavaScript/Guide/Expressions_and_Operators"
   ]
  }
 ],
 "metadata": {
  "kernelspec": {
   "display_name": "Python 3",
   "language": "python",
   "name": "python3"
  },
  "language_info": {
   "codemirror_mode": {
    "name": "ipython",
    "version": 3
   },
   "file_extension": ".py",
   "mimetype": "text/x-python",
   "name": "python",
   "nbconvert_exporter": "python",
   "pygments_lexer": "ipython3",
   "version": "3.7.6"
  }
 },
 "nbformat": 4,
 "nbformat_minor": 4
}
