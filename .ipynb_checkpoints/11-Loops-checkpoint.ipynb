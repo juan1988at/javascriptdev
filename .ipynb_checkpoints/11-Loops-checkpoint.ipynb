{
 "cells": [
  {
   "cell_type": "markdown",
   "metadata": {},
   "source": [
    "1. Ciclo For"
   ]
  },
  {
   "cell_type": "code",
   "execution_count": null,
   "metadata": {},
   "outputs": [],
   "source": [
    "%%js\n",
    "var estudiantes = [ 'Maria', 'Sergio', 'Rosa', 'Daniel' ]; \n",
    "function saludarEstudiante(estudiante) {\n",
    "    console.log(`Hola, ${estudiante}`);\n",
    "}\n",
    "\n",
    "for (var i = 0; i < estudiantes.length; i++) {\n",
    "    saludarEstudiante(estudiantes[i]);\n",
    "}"
   ]
  },
  {
   "cell_type": "markdown",
   "metadata": {},
   "source": [
    "2. Ciclo For-of"
   ]
  },
  {
   "cell_type": "code",
   "execution_count": null,
   "metadata": {},
   "outputs": [],
   "source": [
    "%%js\n",
    "var estudiantes = [ 'Maria', 'Sergio', 'Rosa', 'Daniel' ]; \n",
    "function saludarEstudiante(estudiante) {\n",
    "    console.log(`Hola, ${estudiante}`);\n",
    "}\n",
    "\n",
    "for (var estudiante of estudiantes) {\n",
    "    saludarEstudiante(estudiante);\n",
    "}"
   ]
  },
  {
   "cell_type": "markdown",
   "metadata": {},
   "source": [
    "3. Foreach(para cada elemento)"
   ]
  },
  {
   "cell_type": "code",
   "execution_count": null,
   "metadata": {},
   "outputs": [],
   "source": [
    "var estudiantes = [ 'Maria', 'Sergio', 'Rosa', 'Daniel' ]; \n",
    "estudiantes.forEach(element => console.log(`Hola, ${element}`));"
   ]
  },
  {
   "cell_type": "markdown",
   "metadata": {},
   "source": [
    "Ciclo While"
   ]
  },
  {
   "cell_type": "code",
   "execution_count": null,
   "metadata": {},
   "outputs": [],
   "source": [
    "%%js\n",
    "var estudiantes = [ 'Maria', 'Sergio', 'Rosa', 'Daniel' ]; \n",
    "function saludarEstudiante(estudiante) {\n",
    "    console.log(`Hola, ${estudiante}`);\n",
    "}\n",
    "\n",
    "while (estudiantes.length > 0) {   // Aquí la tarea se hará siempre y cuando sea true, cuando llegué a false, dejará de hacer la tarea\n",
    "    var estudiante = estudiantes.shift();  // shift() es un método que saca un elemento del array de la posición 0 a la última, Pop() comienza de la última a la primera.\n",
    "    saludarEstudiante(estudiante);\n",
    "}"
   ]
  },
  {
   "cell_type": "markdown",
   "metadata": {},
   "source": [
    "Biografía.\n",
    "\n",
    ">https://developer.mozilla.org/es/docs/Web/JavaScript/Reference/Statements/for...of"
   ]
  }
 ],
 "metadata": {
  "kernelspec": {
   "display_name": "Python 3",
   "language": "python",
   "name": "python3"
  },
  "language_info": {
   "codemirror_mode": {
    "name": "ipython",
    "version": 3
   },
   "file_extension": ".py",
   "mimetype": "text/x-python",
   "name": "python",
   "nbconvert_exporter": "python",
   "pygments_lexer": "ipython3",
   "version": "3.7.6"
  }
 },
 "nbformat": 4,
 "nbformat_minor": 4
}
