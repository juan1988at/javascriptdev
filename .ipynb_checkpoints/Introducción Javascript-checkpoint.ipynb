{
 "cells": [
  {
   "cell_type": "markdown",
   "metadata": {},
   "source": [
    "<img src=\"img/que-es-javascript-2.jpg\">"
   ]
  },
  {
   "cell_type": "markdown",
   "metadata": {},
   "source": [
    "**JavaScript** es un lenguaje de programación o de secuencias de comandos que te permite implementar funciones complejas en páginas web, cada vez que una página web hace algo más que sentarse allí y mostrar información estática para que la veas, muestra oportunas actualizaciones de contenido, mapas interactivos, **animación de Gráficos 2D/3D**, desplazamiento de máquinas reproductoras de vídeo, etc., puedes apostar que probablemente **JavaScript** está involucrado. Es la tercera capa del pastel de las tecnologías web estándar, dos de las cuales **(HTML y CSS)** hemos cubierto con mucho más detalle en otras partes del Área de aprendizaje."
   ]
  },
  {
   "cell_type": "markdown",
   "metadata": {},
   "source": [
    "<img src=\"img/javascript.gif\">"
   ]
  },
  {
   "cell_type": "markdown",
   "metadata": {},
   "source": [
    "# FRONTEND / BACKEND"
   ]
  },
  {
   "cell_type": "markdown",
   "metadata": {},
   "source": [
    "<img src=\"img/frontend-and-backend.png\">"
   ]
  },
  {
   "cell_type": "markdown",
   "metadata": {},
   "source": [
    "# ¿Por qué debemos aprender Javascript?\n",
    "\n",
    ">Esta en todos los navegadores\n",
    "\n",
    ">Es un lenguaje de frontend y backend\n",
    "\n",
    "\n",
    "\n",
    "<img src=\"img/lenguajes.webp\">\n"
   ]
  },
  {
   "cell_type": "markdown",
   "metadata": {},
   "source": [
    "# ¿Puedo utilizar Javascript para aplicaciones moviles?"
   ]
  },
  {
   "cell_type": "markdown",
   "metadata": {},
   "source": [
    "### Por supuesto que si, tienes que saber (html, javascript, typescrit, angular, css, ionic, react)\n",
    "\n",
    ">https://ionicframework.com/\n",
    "\n",
    ">https://reactnative.dev/\n",
    "\n",
    "Los frameworks son capas de abstracción que adaptan la vista web a la vista de dispositivos móviles. Así, una app web puede verse como una app móvil cuando es usada en un smartphone o tablet. De esta manera, los frameworks permiten que las aplicaciones híbridas (que son apps webs) puedan visualizarse como apps móviles.\n",
    "\n",
    "Entre los frameworks para apps híbridas más populares están:\n",
    "\n",
    "Ionic: Ionic Framework es uno de los más potentes y versátiles del mercado. Posee su propio de IDE de desarrollo y permite acoplarse con otros frameworks bastante utilizados.\n",
    "React Native: es un framework desarrollado por Facebook. Su tremenda potencia ha sido utilizada para crear las aplicaciones híbridas más conocidas del mercado.\n",
    "PhoneGap / Apache Cordova: PhoneGap es un framework con acceso al servicio de compilación cloud de Adobe Creative Cloud. Apache Cordova en la versión open source de PhoneGap, aunque no tiene acceso a dicho servicio.\n",
    "JQuery Mobile: es un framework de alto rendimiento para la interfaz móvil, aunque suele necesitar librerías o plugins adicionales que permitan mejorar su diseño móvil."
   ]
  },
  {
   "cell_type": "markdown",
   "metadata": {},
   "source": [
    "# ¿Pues programar aplicaciones de escritorio?\n",
    "\n",
    "Por supuesto que si\n",
    "\n",
    ">https://www.electronjs.org/ plattform\n"
   ]
  },
  {
   "cell_type": "markdown",
   "metadata": {},
   "source": [
    "# ¿frameworks más utilizados?\n",
    "\n",
    ">https://ifgeekthen.everis.com/es/los-mejores-javascript-frameworks"
   ]
  },
  {
   "cell_type": "markdown",
   "metadata": {},
   "source": [
    "# ¿Librerias más utilizados?\n",
    "\n",
    ">https://profile.es/blog/librerias-javascript/"
   ]
  },
  {
   "cell_type": "markdown",
   "metadata": {},
   "source": [
    "# Salarios en Javascript\n",
    "\n",
    "<img src=\"img/salarios.png\">\n",
    "<img src=\"img/salario2.png\">\n",
    "\n",
    "Source /Fuentes\n",
    "\n",
    ">https://www.computrabajo.com.co/salarios/desarrollador-javascript\n",
    ">https://co.talent.com/salary?job=Desarrollador+Javascript\n"
   ]
  },
  {
   "cell_type": "markdown",
   "metadata": {},
   "source": [
    "### Metodología de estudio…\n",
    "\n",
    "Aunque estos cursos son complementarios, se pueden tomar en los siguientes niveles.\n",
    "\n",
    " 1. Básico: Clases virtuales\n",
    " 2. Junior: Debes utilizar aplicaciones como  <a href=\"https://grasshopper.app/es_419/\"  target=\"_blank\">Grasshoper</a>, <a href=\"https://play.google.com/store/apps/details?id=com.sololearn.javascript&hl=es_CO&gl=US\"  target=\"_blank\">Sololearn</a> \n",
    " 3. Avanzado: Dominaremos el curso de Javascript para paginas web en <a href=\"https://es.khanacademy.org/\"  target=\"_blank\">Khan Academy </a>"
   ]
  },
  {
   "cell_type": "markdown",
   "metadata": {},
   "source": [
    "# Biografía\n",
    "\n",
    ">https://developer.mozilla.org/es/docs/Learn/JavaScript/First_steps/What_is_JavaScript\n",
    "\n",
    ">https://blog.mdcloud.es/aplicaciones-hibridas-frameworks-ejemplos-y-ventajas/\n",
    "\n",
    ">https://blog.mdcloud.es/aplicaciones-hibridas-frameworks-ejemplos-y-ventajas/\n",
    "\n",
    ">https://www.freecodecamp.org/news/javascript-interview-prep-cheatsheet/?fbclid=IwAR1tqTC4HA48M4K1FbKLc9BOWp6tRlksDGkSnZO1uTgA_PqPt9005Zhb5vQ#javascriptbasics"
   ]
  }
 ],
 "metadata": {
  "kernelspec": {
   "display_name": "Python 3",
   "language": "python",
   "name": "python3"
  },
  "language_info": {
   "codemirror_mode": {
    "name": "ipython",
    "version": 3
   },
   "file_extension": ".py",
   "mimetype": "text/x-python",
   "name": "python",
   "nbconvert_exporter": "python",
   "pygments_lexer": "ipython3",
   "version": "3.7.6"
  }
 },
 "nbformat": 4,
 "nbformat_minor": 4
}
