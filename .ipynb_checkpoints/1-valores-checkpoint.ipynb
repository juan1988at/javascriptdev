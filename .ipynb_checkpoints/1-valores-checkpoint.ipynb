{
 "cells": [
  {
   "cell_type": "markdown",
   "metadata": {},
   "source": [
    "1. **typeof** se utiliza para saber que tipo de valor es la variable"
   ]
  },
  {
   "cell_type": "code",
   "execution_count": null,
   "metadata": {},
   "outputs": [],
   "source": [
    "typeof"
   ]
  },
  {
   "cell_type": "markdown",
   "metadata": {},
   "source": [
    "2. **tipos de datos**"
   ]
  },
  {
   "cell_type": "code",
   "execution_count": null,
   "metadata": {},
   "outputs": [],
   "source": [
    "// Tipos primitivos\n",
    "\n",
    "80   // Numeros \n",
    "3.1415\n",
    "\n",
    "\"Sergio Paredes\"  // Strings (cadenas de texto),\n",
    "\n",
    "'Sergio Paredes'\n",
    "\n",
    "true   // Booleanos\n",
    "false\n",
    "\n",
    "null   // Valores vacios (Empty values)\n",
    " \n",
    "undefined\n",
    "\n",
    "\n",
    "/* ================================================================ */ \n",
    " \n",
    "// Tipos de objetos o no primitivos\n",
    "\n",
    "[1, 2, 3, 4] // corchetes // arrays\n",
    "{ nombre: 'Erickson' }  // llaves // objetos\n",
    "\n",
    "\n",
    "Number \n",
    "Boolean\n",
    "String\n",
    "undefined\n",
    "null\n",
    "Object\n",
    "Symbol\n",
    "\n",
    "// typeof es un tipo de operador unitario \"Unary operator\" que trabaja con 1 operando (variable)\n",
    "\n",
    "var nombre; \n",
    "\n",
    "typeof 30 \n",
    "typeof true\n",
    "typeof \"Vanessa\" \n",
    "typeof nombre \n",
    "typeof null\n",
    "typeof {}\n",
    "typeof []"
   ]
  }
 ],
 "metadata": {
  "kernelspec": {
   "display_name": "Python 3",
   "language": "python",
   "name": "python3"
  },
  "language_info": {
   "codemirror_mode": {
    "name": "ipython",
    "version": 3
   },
   "file_extension": ".py",
   "mimetype": "text/x-python",
   "name": "python",
   "nbconvert_exporter": "python",
   "pygments_lexer": "ipython3",
   "version": "3.7.6"
  }
 },
 "nbformat": 4,
 "nbformat_minor": 4
}
