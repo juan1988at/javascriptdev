{
 "cells": [
  {
   "cell_type": "markdown",
   "metadata": {},
   "source": [
    "# Declarativas"
   ]
  },
  {
   "cell_type": "markdown",
   "metadata": {},
   "source": [
    "Cuando hablamos de funciones en JavaScript, tenemos dos tipos de funciones: Funciones Declarativas (function declaration / function statement) y Expresiones de función (function expression / funciones anónimas).\n",
    "\n",
    "Funciones Declarativas:\n",
    "En las funciones declarativas, utilizamos la palabra reservada function al inicio para poder declarar la función:"
   ]
  },
  {
   "cell_type": "code",
   "execution_count": 1,
   "metadata": {},
   "outputs": [
    {
     "data": {
      "application/javascript": [
       "element.text(miFuncion())\n",
       "\n",
       "function miFuncion(){\n",
       "    return 3;\n",
       "}\n"
      ],
      "text/plain": [
       "<IPython.core.display.Javascript object>"
      ]
     },
     "metadata": {},
     "output_type": "display_data"
    }
   ],
   "source": [
    "%%js\n",
    "element.text(miFuncion())\n",
    "\n",
    "function miFuncion(){\n",
    "    return 3;\n",
    "}"
   ]
  },
  {
   "cell_type": "markdown",
   "metadata": {},
   "source": [
    "# Expresión"
   ]
  },
  {
   "cell_type": "markdown",
   "metadata": {},
   "source": [
    "Expresión de función:\n",
    "En la expresión de función, la declaración se inicia con la palabra reservada var, donde se generará una variable que guardará una función anónima."
   ]
  },
  {
   "cell_type": "code",
   "execution_count": 3,
   "metadata": {},
   "outputs": [
    {
     "data": {
      "application/javascript": [
       "\n",
       "\n",
       "var miFuncion = function(a,b){\n",
       "    return a+b;\n",
       "}\n",
       "\n",
       "element.text(miFuncion(20,30))\n",
       "\n",
       "\n",
       "\n",
       "\n",
       "\n"
      ],
      "text/plain": [
       "<IPython.core.display.Javascript object>"
      ]
     },
     "metadata": {},
     "output_type": "display_data"
    }
   ],
   "source": [
    "%%js\n",
    "\n",
    "\n",
    "var miFuncion = function(a,b){\n",
    "    return a+b;\n",
    "}\n",
    "\n",
    "element.text(miFuncion(20,30))\n",
    "\n",
    "\n",
    "\n",
    "\n",
    "\n"
   ]
  },
  {
   "cell_type": "markdown",
   "metadata": {},
   "source": [
    "En la expresión de función, la función podría o no llevar nombre, aunque es más común que se hagan anónimas.\n",
    "\n",
    "Diferencias:\n",
    "A las funciones declarativas se les aplica hoisting, y a la expresión de función, no. Ya que el hoisting solo se aplica en las palabras reservadas var y function.\n",
    "\n",
    "Lo que quiere decir que con las funciones declarativas, podemos mandar llamar la función antes de que ésta sea declarada, y con la expresión de función, no, tendríamos que declararla primero, y después mandarla llamar."
   ]
  },
  {
   "cell_type": "markdown",
   "metadata": {},
   "source": [
    "# LLamar función "
   ]
  },
  {
   "cell_type": "markdown",
   "metadata": {},
   "source": [
    "<div class=\"alert alert-info\">\n",
    "   <strong>Hi!</strong> Terminal\n",
    "</div>"
   ]
  },
  {
   "cell_type": "code",
   "execution_count": 4,
   "metadata": {},
   "outputs": [
    {
     "data": {
      "application/javascript": [
       "function saludarEstudiante(estudiantes){\n",
       "    console.log(`Hola ${estudiantes}`);\n",
       "}\n",
       "saludarEstudiante(\"Juan Esteban\")\n"
      ],
      "text/plain": [
       "<IPython.core.display.Javascript object>"
      ]
     },
     "metadata": {},
     "output_type": "display_data"
    }
   ],
   "source": [
    "%%js\n",
    "function saludarEstudiante(estudiantes){\n",
    "    console.log(`Hola ${estudiantes}`);\n",
    "}\n",
    "saludarEstudiante(\"Juan Esteban\")"
   ]
  },
  {
   "cell_type": "markdown",
   "metadata": {},
   "source": [
    "está funcion recibe 2 parámetros, que se convierten en un placeholder de valores que se pueden utilizar dentro de la función."
   ]
  },
  {
   "cell_type": "code",
   "execution_count": 5,
   "metadata": {},
   "outputs": [
    {
     "data": {
      "application/javascript": [
       "function suma(a,b) {\n",
       "    var resultado =  a + b; \n",
       "    return resultado;\n",
       "}\n",
       "element.text(suma(4,5))\n"
      ],
      "text/plain": [
       "<IPython.core.display.Javascript object>"
      ]
     },
     "metadata": {},
     "output_type": "display_data"
    }
   ],
   "source": [
    "%%js\n",
    "function suma(a,b) {\n",
    "    var resultado =  a + b; \n",
    "    return resultado;\n",
    "}\n",
    "element.text(suma(4,5))\n"
   ]
  },
  {
   "cell_type": "markdown",
   "metadata": {},
   "source": [
    "<hr style=\"height:2px;border-width:0;color:gray;background-color:red\">\n",
    "<h2 style=\"color: red\">Actividad</h2>"
   ]
  },
  {
   "cell_type": "markdown",
   "metadata": {},
   "source": [
    "Cree una función que nos retorne el área de un rectangulo"
   ]
  },
  {
   "cell_type": "code",
   "execution_count": null,
   "metadata": {},
   "outputs": [],
   "source": [
    "\n",
    "\n",
    "\n"
   ]
  },
  {
   "cell_type": "markdown",
   "metadata": {},
   "source": [
    "<h2 style=\"color: red\">Fin</h2>\n",
    "<hr style=\"height:2px;border-width:0;color:gray;background-color:red\">"
   ]
  }
 ],
 "metadata": {
  "kernelspec": {
   "display_name": "Python 3",
   "language": "python",
   "name": "python3"
  },
  "language_info": {
   "codemirror_mode": {
    "name": "ipython",
    "version": 3
   },
   "file_extension": ".py",
   "mimetype": "text/x-python",
   "name": "python",
   "nbconvert_exporter": "python",
   "pygments_lexer": "ipython3",
   "version": "3.7.6"
  }
 },
 "nbformat": 4,
 "nbformat_minor": 4
}
