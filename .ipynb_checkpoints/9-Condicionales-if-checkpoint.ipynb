{
 "cells": [
  {
   "cell_type": "code",
   "execution_count": null,
   "metadata": {},
   "outputs": [],
   "source": [
    "%%\n",
    "if(true){\n",
    "    console.log(\"Verdadero\");\n",
    "}"
   ]
  },
  {
   "cell_type": "code",
   "execution_count": null,
   "metadata": {},
   "outputs": [],
   "source": [
    "%%js\n",
    "if(true){\n",
    "    console.log(\"Verdadero\");\n",
    "}else{\n",
    "    console.log(\"Falso\");\n",
    "}"
   ]
  },
  {
   "cell_type": "markdown",
   "metadata": {},
   "source": [
    "Else if"
   ]
  },
  {
   "cell_type": "code",
   "execution_count": null,
   "metadata": {},
   "outputs": [],
   "source": [
    "%%js\n",
    "var edad = 17;\n",
    "if(edad === 18){\n",
    "    console.log(\"Puedes votar\")\n",
    "}else if(edad > 18){\n",
    "    console.log(\"Puedes votar de nuevo\");\n",
    "}else{\n",
    "    console.log(\"Aun no puedes votar\")\n",
    "}"
   ]
  },
  {
   "cell_type": "code",
   "execution_count": null,
   "metadata": {},
   "outputs": [],
   "source": [
    "%%js\n",
    "\n",
    "condition ? true : false;\n",
    "var numero = 1;\n",
    "var resultado = numero ===1 ? \"Sí soy un uno\" : \"No soy un uno\";\n",
    "console.log(resultado);"
   ]
  }
 ],
 "metadata": {
  "kernelspec": {
   "display_name": "Python 3",
   "language": "python",
   "name": "python3"
  },
  "language_info": {
   "codemirror_mode": {
    "name": "ipython",
    "version": 3
   },
   "file_extension": ".py",
   "mimetype": "text/x-python",
   "name": "python",
   "nbconvert_exporter": "python",
   "pygments_lexer": "ipython3",
   "version": "3.7.6"
  }
 },
 "nbformat": 4,
 "nbformat_minor": 4
}
