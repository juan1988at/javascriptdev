{
 "cells": [
  {
   "cell_type": "markdown",
   "metadata": {},
   "source": [
    "1. Crear un vector"
   ]
  },
  {
   "cell_type": "code",
   "execution_count": 6,
   "metadata": {},
   "outputs": [
    {
     "data": {
      "application/javascript": [
       "\n",
       "var fruta = []\n",
       "\n",
       "var frutas = [\"Manzana\", \"Platano\", \"Cereza\", \"Fresa\"]; \n",
       "element.text(frutas); \n"
      ],
      "text/plain": [
       "<IPython.core.display.Javascript object>"
      ]
     },
     "metadata": {},
     "output_type": "display_data"
    }
   ],
   "source": [
    "%%js\n",
    "\n",
    "var fruta = []\n",
    "\n",
    "var frutas = [\"Manzana\", \"Platano\", \"Cereza\", \"Fresa\"]; \n",
    "element.text(frutas); \n"
   ]
  },
  {
   "cell_type": "markdown",
   "metadata": {},
   "source": [
    "2. Verificar el tamaño del vector"
   ]
  },
  {
   "cell_type": "code",
   "execution_count": 5,
   "metadata": {},
   "outputs": [
    {
     "data": {
      "application/javascript": [
       "var frutas = [\"Manzana\", \"Platano\", \"Cereza\", \"Fresa\"]; \n",
       "element.text(frutas.length);\n"
      ],
      "text/plain": [
       "<IPython.core.display.Javascript object>"
      ]
     },
     "metadata": {},
     "output_type": "display_data"
    }
   ],
   "source": [
    "%%js\n",
    "var frutas = [\"Manzana\", \"Platano\", \"Cereza\", \"Fresa\"]; \n",
    "element.text(frutas.length);"
   ]
  },
  {
   "cell_type": "markdown",
   "metadata": {},
   "source": [
    "3. Acceder a un elemento del vector"
   ]
  },
  {
   "cell_type": "code",
   "execution_count": 7,
   "metadata": {},
   "outputs": [
    {
     "data": {
      "application/javascript": [
       "var frutas = [\"Manzana\", \"Platano\", \"Cereza\", \"Fresa\"]; \n",
       "element.text(frutas[1]);\n"
      ],
      "text/plain": [
       "<IPython.core.display.Javascript object>"
      ]
     },
     "metadata": {},
     "output_type": "display_data"
    }
   ],
   "source": [
    "%%js\n",
    "var frutas = [\"Manzana\", \"Platano\", \"Cereza\", \"Fresa\"]; \n",
    "element.text(frutas[1]);"
   ]
  },
  {
   "cell_type": "markdown",
   "metadata": {},
   "source": [
    "4. Agregar un elemento al final de la lista"
   ]
  },
  {
   "cell_type": "code",
   "execution_count": 8,
   "metadata": {},
   "outputs": [
    {
     "data": {
      "application/javascript": [
       "var frutas = [\"Manzana\", \"Platano\", \"Cereza\", \"Fresa\"];  \n",
       "var masFrutas = frutas.push(\"Uvas\"); // Esté metodo añadirá \"Uvas\" añ final del array\n",
       "element.text(frutas);\n"
      ],
      "text/plain": [
       "<IPython.core.display.Javascript object>"
      ]
     },
     "metadata": {},
     "output_type": "display_data"
    }
   ],
   "source": [
    "%%js\n",
    "var frutas = [\"Manzana\", \"Platano\", \"Cereza\", \"Fresa\"];  \n",
    "var masFrutas = frutas.push(\"Uvas\"); // Esté método añadirá \"Uvas\" al final del array\n",
    "element.text(frutas);"
   ]
  },
  {
   "cell_type": "markdown",
   "metadata": {},
   "source": [
    "5. Eliminar el último elemento de la lista"
   ]
  },
  {
   "cell_type": "code",
   "execution_count": 22,
   "metadata": {},
   "outputs": [
    {
     "data": {
      "application/javascript": [
       "var frutas = [\"Manzana\", \"Platano\", \"Cereza\", \"Fresa\"];  \n",
       "//frutas.push(\"Uvas\");\n",
       "frutas.pop()\n",
       "element.text(frutas);\n"
      ],
      "text/plain": [
       "<IPython.core.display.Javascript object>"
      ]
     },
     "metadata": {},
     "output_type": "display_data"
    }
   ],
   "source": [
    "%%js\n",
    "var frutas = [\"Manzana\", \"Platano\", \"Cereza\", \"Fresa\"];  \n",
    "frutas.push(\"Uvas\");\n",
    "frutas.pop()\n",
    "element.text(frutas);"
   ]
  },
  {
   "cell_type": "markdown",
   "metadata": {},
   "source": [
    "6. Agregar al principio del vector"
   ]
  },
  {
   "cell_type": "code",
   "execution_count": 23,
   "metadata": {},
   "outputs": [
    {
     "data": {
      "application/javascript": [
       "var frutas = [\"Manzana\", \"Platano\", \"Cereza\", \"Fresa\"];  \n",
       "frutas.unshift(\"Uvas\");\n",
       "element.text(frutas);\n"
      ],
      "text/plain": [
       "<IPython.core.display.Javascript object>"
      ]
     },
     "metadata": {},
     "output_type": "display_data"
    }
   ],
   "source": [
    "%%js\n",
    "var frutas = [\"Manzana\", \"Platano\", \"Cereza\", \"Fresa\"];  \n",
    "frutas.unshift(\"Uvas\");\n",
    "element.text(frutas);"
   ]
  },
  {
   "cell_type": "markdown",
   "metadata": {},
   "source": [
    "7.Borrar primer elemento"
   ]
  },
  {
   "cell_type": "code",
   "execution_count": 25,
   "metadata": {},
   "outputs": [
    {
     "data": {
      "application/javascript": [
       "var frutas = [\"Manzana\", \"Platano\", \"Cereza\", \"Fresa\", \"Uvas\"];  \n",
       "frutas.shift(\"Fresa\");\n",
       "element.text(frutas);\n"
      ],
      "text/plain": [
       "<IPython.core.display.Javascript object>"
      ]
     },
     "metadata": {},
     "output_type": "display_data"
    }
   ],
   "source": [
    "%%js\n",
    "var frutas = [\"Manzana\", \"Platano\", \"Cereza\", \"Fresa\", \"Uvas\"];  \n",
    "frutas.shift(\"Fresa\");\n",
    "element.text(frutas);"
   ]
  },
  {
   "cell_type": "markdown",
   "metadata": {},
   "source": [
    "8.Extraer oosición del elemento"
   ]
  },
  {
   "cell_type": "code",
   "execution_count": 30,
   "metadata": {},
   "outputs": [
    {
     "data": {
      "application/javascript": [
       "var frutas = [\"Manzana\", \"Platano\", \"Cereza\", \"Fresa\"]; \n",
       "frutas.indexOf(\"Platano\");\n",
       "element.text(frutas);\n"
      ],
      "text/plain": [
       "<IPython.core.display.Javascript object>"
      ]
     },
     "metadata": {},
     "output_type": "display_data"
    }
   ],
   "source": [
    "%%js\n",
    "var frutas = [\"Manzana\", \"Platano\", \"Cereza\", \"Fresa\"]; \n",
    "var posicion = frutas.indexOf(\"Platano\");\n",
    "element.text(posicion);"
   ]
  },
  {
   "cell_type": "markdown",
   "metadata": {},
   "source": [
    "Biogragía\n",
    "\n",
    ">https://developer.mozilla.org/es/docs/Web/JavaScript/Reference/Global_Objects/Array"
   ]
  },
  {
   "cell_type": "markdown",
   "metadata": {},
   "source": [
    "<hr style=\"height:2px;border-width:0;color:gray;background-color:red\">\n",
    "<h2 style=\"color: red\">Actividad</h2>"
   ]
  },
  {
   "cell_type": "markdown",
   "metadata": {},
   "source": [
    "Extraeremos un elemento de un vector"
   ]
  },
  {
   "cell_type": "code",
   "execution_count": null,
   "metadata": {},
   "outputs": [],
   "source": [
    "\n",
    "\n"
   ]
  },
  {
   "cell_type": "markdown",
   "metadata": {},
   "source": [
    "<h2 style=\"color: red\">Fin</h2>\n",
    "<hr style=\"height:2px;border-width:0;color:gray;background-color:red\">"
   ]
  }
 ],
 "metadata": {
  "kernelspec": {
   "display_name": "Python 3",
   "language": "python",
   "name": "python3"
  },
  "language_info": {
   "codemirror_mode": {
    "name": "ipython",
    "version": 3
   },
   "file_extension": ".py",
   "mimetype": "text/x-python",
   "name": "python",
   "nbconvert_exporter": "python",
   "pygments_lexer": "ipython3",
   "version": "3.7.6"
  }
 },
 "nbformat": 4,
 "nbformat_minor": 4
}
