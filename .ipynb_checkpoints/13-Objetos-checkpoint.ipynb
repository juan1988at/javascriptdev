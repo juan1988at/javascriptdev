{
 "cells": [
  {
   "cell_type": "markdown",
   "metadata": {},
   "source": [
    "1.Crear un objeto"
   ]
  },
  {
   "cell_type": "code",
   "execution_count": null,
   "metadata": {},
   "outputs": [],
   "source": [
    "%%js\n",
    "var objeto = {};"
   ]
  },
  {
   "cell_type": "markdown",
   "metadata": {},
   "source": [
    "2.Creamos un objeto con propiedades."
   ]
  },
  {
   "cell_type": "code",
   "execution_count": 1,
   "metadata": {},
   "outputs": [
    {
     "data": {
      "application/javascript": [
       "var miAuto = {\n",
       "    marca: \"Toyota\",\n",
       "    modelo: \"Corolla\",\n",
       "    año: 2020\n",
       "}\n",
       "miAuto.marca \n"
      ],
      "text/plain": [
       "<IPython.core.display.Javascript object>"
      ]
     },
     "metadata": {},
     "output_type": "display_data"
    }
   ],
   "source": [
    "%%js\n",
    "var miAuto = {\n",
    "    marca: \"Toyota\",\n",
    "    modelo: \"Corolla\",\n",
    "    year: 2020\n",
    "}\n",
    "miAuto\n",
    "miAuto.marca \n",
    "miAuto.year"
   ]
  },
  {
   "cell_type": "markdown",
   "metadata": {},
   "source": [
    "3.Crear una propiedad"
   ]
  },
  {
   "cell_type": "code",
   "execution_count": null,
   "metadata": {},
   "outputs": [],
   "source": [
    "%%js\n",
    "var miAuto = {\n",
    "    marca: \"Toyota\",  // key - value \n",
    "    modelo: \"Corolla\",\n",
    "    annio: 2020,\n",
    "    detallesDelAuto: function() {   // Metodo de un objeto (una función dentro de un objeto)\n",
    "      return `Auto ${this.modelo} ${this.annio}`;\n",
    "  }\n",
    "};\n",
    "\n",
    "miAuto.annio \n",
    "miAuto.modelo \n",
    "\n",
    "miAuto.detallesDelAuto(); "
   ]
  },
  {
   "cell_type": "markdown",
   "metadata": {},
   "source": [
    "this significa esto, y hace una referencia al auto, similar a lo que significa self en python."
   ]
  },
  {
   "cell_type": "markdown",
   "metadata": {},
   "source": [
    "<hr style=\"height:2px;border-width:0;color:gray;background-color:red\">\n",
    "<h2 style=\"color: red\">Actividad</h2>"
   ]
  },
  {
   "cell_type": "markdown",
   "metadata": {},
   "source": [
    "Crea un objeto que nos explique como opera una lavadora como en los ejercicios de python"
   ]
  },
  {
   "cell_type": "code",
   "execution_count": null,
   "metadata": {},
   "outputs": [],
   "source": [
    "\n",
    "\n",
    "\n"
   ]
  },
  {
   "cell_type": "markdown",
   "metadata": {},
   "source": [
    "<h2 style=\"color: red\">Fin</h2>\n",
    "<hr style=\"height:2px;border-width:0;color:gray;background-color:red\">"
   ]
  }
 ],
 "metadata": {
  "kernelspec": {
   "display_name": "Python 3",
   "language": "python",
   "name": "python3"
  },
  "language_info": {
   "codemirror_mode": {
    "name": "ipython",
    "version": 3
   },
   "file_extension": ".py",
   "mimetype": "text/x-python",
   "name": "python",
   "nbconvert_exporter": "python",
   "pygments_lexer": "ipython3",
   "version": "3.7.6"
  }
 },
 "nbformat": 4,
 "nbformat_minor": 4
}
