{
 "cells": [
  {
   "cell_type": "markdown",
   "metadata": {},
   "source": [
    "# Alcande\n",
    "\n",
    "Es el alcance que tienen las variables\n",
    "\n",
    "<img src=\"img/scope.png\">\n"
   ]
  },
  {
   "cell_type": "markdown",
   "metadata": {},
   "source": [
    "¿Qué me retornaria?"
   ]
  },
  {
   "cell_type": "markdown",
   "metadata": {},
   "source": [
    "### Scope Global"
   ]
  },
  {
   "cell_type": "code",
   "execution_count": null,
   "metadata": {},
   "outputs": [],
   "source": [
    "%%js\n",
    "\n",
    "var miNombre = \"Carlos\"; \n",
    "\n",
    "function nombre() {\n",
    "    miNombre = \"Andrés\";\n",
    "    return miNombre;\n",
    "}\n",
    "\n",
    "nombre();\n",
    "\n",
    "\n",
    "element.text(miNombre)"
   ]
  },
  {
   "cell_type": "markdown",
   "metadata": {},
   "source": [
    "### Scope Local"
   ]
  },
  {
   "cell_type": "code",
   "execution_count": null,
   "metadata": {},
   "outputs": [],
   "source": [
    "%%js\n",
    "var miNombre = \"Diego\"\n",
    "\n",
    "function nombre() {\n",
    "    var miApellido = \"de la Vega\"; \n",
    "    element.text(miNombre + \" \" + miApellido)\n",
    "}\n",
    "\n",
    "nombre();"
   ]
  },
  {
   "cell_type": "markdown",
   "metadata": {},
   "source": [
    "¿Qué ocurre si intento llamara una variable local en el entorno global?"
   ]
  },
  {
   "cell_type": "code",
   "execution_count": null,
   "metadata": {},
   "outputs": [],
   "source": [
    "%%js\n",
    "var miNombre = \"Diego\"\n",
    "\n",
    "function nombre() {\n",
    "    var miApellido = \"de la Vega\"; \n",
    "    element.text(miNombre + \" \" + miApellido)\n",
    "}\n",
    "\n",
    "\n",
    "element.text(miNombre);\n",
    "element.text(miApellido);\n"
   ]
  },
  {
   "cell_type": "markdown",
   "metadata": {},
   "source": [
    "¿Qué ocurre si cambio el scope global por uno local ?"
   ]
  },
  {
   "cell_type": "code",
   "execution_count": 1,
   "metadata": {},
   "outputs": [
    {
     "data": {
      "application/javascript": [
       "var miNombre = \"Diego\"\n",
       "\n",
       "function nombre(usuario) {\n",
       "    miNombre = usuario;\n",
       "    console.log(miNombre); \n",
       "}\n",
       "\n",
       "nombre(\"Oscar\");\n",
       "\n",
       "console.log(`Hola ${miNombre}, cómo estás?`);\n"
      ],
      "text/plain": [
       "<IPython.core.display.Javascript object>"
      ]
     },
     "metadata": {},
     "output_type": "display_data"
    }
   ],
   "source": [
    "%%js\n",
    "var miNombre = \"Vanessa\"\n",
    "\n",
    "function nombre(usuario) {\n",
    "    miNombre = usuario;\n",
    "    console.log(miNombre); \n",
    "}\n",
    "\n",
    "nombre(\"Oscar\");\n",
    "\n",
    "console.log(`Hola ${miNombre}, cómo estás?`);"
   ]
  },
  {
   "cell_type": "markdown",
   "metadata": {},
   "source": [
    "¿Qué pasa si creamos un scope local y lo mandamos a llamar fuera de la función?"
   ]
  },
  {
   "cell_type": "markdown",
   "metadata": {},
   "source": [
    "<hr style=\"height:2px;border-width:0;color:gray;background-color:red\">\n",
    "<h2 style=\"color: red\">Actividad</h2>"
   ]
  },
  {
   "cell_type": "markdown",
   "metadata": {},
   "source": [
    "¿Qué pasa si creamos un scope local y lo mandamos a llamar fuera de la función?"
   ]
  },
  {
   "cell_type": "code",
   "execution_count": null,
   "metadata": {},
   "outputs": [],
   "source": [
    "\n",
    "\n"
   ]
  },
  {
   "cell_type": "markdown",
   "metadata": {},
   "source": [
    "<h2 style=\"color: red\">Fin</h2>\n",
    "<hr style=\"height:2px;border-width:0;color:gray;background-color:red\">"
   ]
  }
 ],
 "metadata": {
  "kernelspec": {
   "display_name": "Python 3",
   "language": "python",
   "name": "python3"
  },
  "language_info": {
   "codemirror_mode": {
    "name": "ipython",
    "version": 3
   },
   "file_extension": ".py",
   "mimetype": "text/x-python",
   "name": "python",
   "nbconvert_exporter": "python",
   "pygments_lexer": "ipython3",
   "version": "3.7.6"
  }
 },
 "nbformat": 4,
 "nbformat_minor": 4
}
