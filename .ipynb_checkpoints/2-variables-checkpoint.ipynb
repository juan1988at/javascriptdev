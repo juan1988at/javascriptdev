{
 "cells": [
  {
   "cell_type": "code",
   "execution_count": 1,
   "metadata": {},
   "outputs": [
    {
     "data": {
      "application/javascript": [
       "/* Variable es un lugar en memoria\n",
       "Es una representación de algún lugar en la memoria para guardar datos\n",
       " */\n",
       "\n",
       "var nombre = \"Diego\"; // Nombre apuntará en algún lugar en la memoria (nosotros no sabemos donde, pero eso no es importante), pero dirá la señal de = tomará ese string y lo guardará en ese lugar.  y después si queremos utilizar ese valor, utilizaremos la variable Nombre para pedir que nos traigan ese string de memoria.\n",
       "\n",
       "// = es igual a operador de asignación \n",
       "\n",
       "var edad; // Declarar\n",
       "edad = 30; // Inicializar \n",
       "\n",
       "var elementos = ['Computadora', 'Celular']; // Aquí la variable seleccionará toda una sección para los elementos del array, y después tendremos acceso a toda la sección destinada en memoria.\n",
       "\n",
       "var persona = {   // de igual forma para el objeto\n",
       "    nombre: \"Diego\",\n",
       "    edad: 30\n",
       "}\n",
       "\n",
       "element.text(elementos[2]); // consola es de igual forma una variable que le pertenece al navegador, con cierto espacio en memoria, y con un tipo de comportamiento especial. Donde Log es un método de la función\n"
      ],
      "text/plain": [
       "<IPython.core.display.Javascript object>"
      ]
     },
     "metadata": {},
     "output_type": "display_data"
    }
   ],
   "source": [
    "%%js\n",
    "/* Variable es un lugar en memoria\n",
    "Es una representación de algún lugar en la memoria para guardar datos\n",
    " */\n",
    "\n",
    "var nombre = \"Diego\"; // Nombre apuntará en algún lugar en la memoria (nosotros no sabemos donde, pero eso no es importante), pero dirá la señal de = tomará ese string y lo guardará en ese lugar.  y después si queremos utilizar ese valor, utilizaremos la variable Nombre para pedir que nos traigan ese string de memoria.\n",
    "\n",
    "// = es igual a operador de asignación \n",
    "\n",
    "var edad; // Declarar\n",
    "edad = 30; // Inicializar \n",
    "\n",
    "var elementos = ['Computadora', 'Celular']; // Aquí la variable seleccionará toda una sección para los elementos del array, y después tendremos acceso a toda la sección destinada en memoria.\n",
    "\n",
    "var persona = {   // de igual forma para el objeto\n",
    "    nombre: \"Diego\",\n",
    "    edad: 30\n",
    "}\n",
    "\n",
    "element.text(elementos[2]); // consola es de igual forma una variable que le pertenece al navegador, con cierto espacio en memoria, y con un tipo de comportamiento especial. Donde Log es un método de la función\n"
   ]
  },
  {
   "cell_type": "code",
   "execution_count": null,
   "metadata": {},
   "outputs": [],
   "source": []
  }
 ],
 "metadata": {
  "kernelspec": {
   "display_name": "Python 3",
   "language": "python",
   "name": "python3"
  },
  "language_info": {
   "codemirror_mode": {
    "name": "ipython",
    "version": 3
   },
   "file_extension": ".py",
   "mimetype": "text/x-python",
   "name": "python",
   "nbconvert_exporter": "python",
   "pygments_lexer": "ipython3",
   "version": "3.7.6"
  }
 },
 "nbformat": 4,
 "nbformat_minor": 4
}
