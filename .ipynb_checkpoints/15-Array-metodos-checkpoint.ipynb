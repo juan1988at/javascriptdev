{
 "cells": [
  {
   "cell_type": "markdown",
   "metadata": {},
   "source": [
    "1.Crear un objeto con múltiples elmentos"
   ]
  },
  {
   "cell_type": "code",
   "execution_count": null,
   "metadata": {},
   "outputs": [],
   "source": [
    "var articulos = [\n",
    "    { nombre: 'Bici', costo: 3000 },\n",
    "    { nombre: 'TV', costo: 2500 },\n",
    "    { nombre: 'Libro', costo: 320 },\n",
    "    { nombre: 'Celular', costo: 10000 },\n",
    "    { nombre: 'laptop', costo: 20000 },\n",
    "    { nombre: 'teclado', costo: 500 },\n",
    "    { nombre: 'audifonos', costo: 1700 }\n",
    "]\n"
   ]
  },
  {
   "cell_type": "markdown",
   "metadata": {},
   "source": [
    "2. Metodos para recorrer array.\n",
    "\n",
    "**Método filter**"
   ]
  },
  {
   "cell_type": "code",
   "execution_count": null,
   "metadata": {},
   "outputs": [],
   "source": [
    "var articulosFiltrados = articulos.filter(function(articulo){\n",
    "    return articulo.costo <= 500  /* Menor o igual a 100 */ \n",
    "});\n"
   ]
  },
  {
   "cell_type": "markdown",
   "metadata": {},
   "source": [
    "3. Llamo a la variable"
   ]
  },
  {
   "cell_type": "code",
   "execution_count": null,
   "metadata": {},
   "outputs": [],
   "source": [
    "articulosFiltrados"
   ]
  },
  {
   "cell_type": "markdown",
   "metadata": {},
   "source": [
    "4. Método map"
   ]
  },
  {
   "cell_type": "code",
   "execution_count": null,
   "metadata": {},
   "outputs": [],
   "source": [
    "var articulos = [\n",
    "    { nombre: 'Bici', costo: 3000 },\n",
    "    { nombre: 'TV', costo: 2500 },\n",
    "    { nombre: 'Libro', costo: 320 },\n",
    "    { nombre: 'Celular', costo: 10000 },\n",
    "    { nombre: 'laptop', costo: 20000 },\n",
    "    { nombre: 'teclado', costo: 500 },\n",
    "    { nombre: 'audifonos', costo: 1700 }\n",
    "]"
   ]
  },
  {
   "cell_type": "markdown",
   "metadata": {},
   "source": [
    "5. Aplicación del método"
   ]
  },
  {
   "cell_type": "code",
   "execution_count": null,
   "metadata": {},
   "outputs": [],
   "source": [
    "var nombreArticulos = articulos.map(function(articulo){\n",
    "    return articulo.nombre  \n",
    "});"
   ]
  },
  {
   "cell_type": "code",
   "execution_count": null,
   "metadata": {},
   "outputs": [],
   "source": [
    "nombreArticulos"
   ]
  },
  {
   "cell_type": "markdown",
   "metadata": {},
   "source": [
    "<hr style=\"height:2px;border-width:0;color:gray;background-color:red\">\n",
    "<h2 style=\"color: red\">Actividad</h2>"
   ]
  },
  {
   "cell_type": "markdown",
   "metadata": {},
   "source": [
    "Utilizando la función Reduce, calcule la suma total del costo de los árticulos"
   ]
  },
  {
   "cell_type": "code",
   "execution_count": null,
   "metadata": {},
   "outputs": [],
   "source": []
  },
  {
   "cell_type": "markdown",
   "metadata": {},
   "source": [
    "<h2 style=\"color: red\">Fin</h2>\n",
    "<hr style=\"height:2px;border-width:0;color:gray;background-color:red\">"
   ]
  }
 ],
 "metadata": {
  "kernelspec": {
   "display_name": "Python 3",
   "language": "python",
   "name": "python3"
  },
  "language_info": {
   "codemirror_mode": {
    "name": "ipython",
    "version": 3
   },
   "file_extension": ".py",
   "mimetype": "text/x-python",
   "name": "python",
   "nbconvert_exporter": "python",
   "pygments_lexer": "ipython3",
   "version": "3.7.6"
  }
 },
 "nbformat": 4,
 "nbformat_minor": 4
}
