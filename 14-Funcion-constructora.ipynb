{
 "cells": [
  {
   "cell_type": "markdown",
   "metadata": {},
   "source": [
    "1.Imagina que tenemos una gran cantidad de carros, no podemos crear un objeto por cada elemento, vamos a crear una función constructura."
   ]
  },
  {
   "cell_type": "code",
   "execution_count": 3,
   "metadata": {},
   "outputs": [
    {
     "data": {
      "application/javascript": [
       "function auto(marca, modelo, year) {  // Creas una función con los parametros que va a recibir, \n",
       "    this.marca = marca;   // Utilizamos el \"this\" para asignar valores a las propiedades del objeto \n",
       "    this.modelo = modelo;\n",
       "    this.year = year;\n",
       "}\n",
       "\n",
       "var newAuto = new auto(\"Tesla\", \"Model 3\", 2020);\n",
       "\n",
       "element.text(newAuto)\n"
      ],
      "text/plain": [
       "<IPython.core.display.Javascript object>"
      ]
     },
     "metadata": {},
     "output_type": "display_data"
    }
   ],
   "source": [
    "%%js\n",
    "function auto(marca, modelo, year) {  // Creas una función con los parametros que va a recibir, \n",
    "    this.marca = marca;   // Utilizamos el \"this\" para asignar valores a las propiedades del objeto \n",
    "    this.modelo = modelo;\n",
    "    this.year = year;\n",
    "}\n",
    "\n",
    "var newAuto = new auto(\"Tesla\", \"Model 3\", 2020);\n",
    "var newAuto2 = new auto(\"Ferrari\", \"Model 4\", 2021);\n"
   ]
  },
  {
   "cell_type": "code",
   "execution_count": null,
   "metadata": {},
   "outputs": [],
   "source": [
    "console.log(newAuto)\n",
    "console.log(newAuto2)"
   ]
  },
  {
   "cell_type": "markdown",
   "metadata": {},
   "source": [
    "<hr style=\"height:2px;border-width:0;color:gray;background-color:red\">\n",
    "<h2 style=\"color: red\">Actividad</h2>"
   ]
  },
  {
   "cell_type": "markdown",
   "metadata": {},
   "source": [
    "Utiliza un ciclo for para ingresar diferentes vehiculos mediante alert al bjeto autos"
   ]
  },
  {
   "cell_type": "code",
   "execution_count": null,
   "metadata": {},
   "outputs": [],
   "source": [
    "\n",
    "\n",
    "\n"
   ]
  },
  {
   "cell_type": "markdown",
   "metadata": {},
   "source": [
    "<h2 style=\"color: red\">Fin</h2>\n",
    "<hr style=\"height:2px;border-width:0;color:gray;background-color:red\">"
   ]
  }
 ],
 "metadata": {
  "kernelspec": {
   "display_name": "Python 3",
   "language": "python",
   "name": "python3"
  },
  "language_info": {
   "codemirror_mode": {
    "name": "ipython",
    "version": 3
   },
   "file_extension": ".py",
   "mimetype": "text/x-python",
   "name": "python",
   "nbconvert_exporter": "python",
   "pygments_lexer": "ipython3",
   "version": "3.7.6"
  }
 },
 "nbformat": 4,
 "nbformat_minor": 4
}
